{
  "nbformat": 4,
  "nbformat_minor": 0,
  "metadata": {
    "colab": {
      "name": "Diabetes-Database.ipynb",
      "provenance": [],
      "authorship_tag": "ABX9TyPQ4rnZ0tQDN+OnLzXVq3X5",
      "include_colab_link": true
    },
    "kernelspec": {
      "name": "python3",
      "display_name": "Python 3"
    }
  },
  "cells": [
    {
      "cell_type": "markdown",
      "metadata": {
        "id": "view-in-github",
        "colab_type": "text"
      },
      "source": [
        "<a href=\"https://colab.research.google.com/github/sharinair14/ML/blob/main/Diabetes_Database.ipynb\" target=\"_parent\"><img src=\"https://colab.research.google.com/assets/colab-badge.svg\" alt=\"Open In Colab\"/></a>"
      ]
    },
    {
      "cell_type": "code",
      "metadata": {
        "id": "QyQTSNq2GpRI"
      },
      "source": [
        "import numpy as np\n",
        "import pandas as pd\n",
        "import matplotlib.pyplot as plt\n",
        "import seaborn as sns\n",
        "%matplotlib inline\n",
        "from sklearn.model_selection import train_test_split\n",
        "from sklearn.linear_model import LogisticRegression\n",
        "from sklearn.svm import SVC\n",
        "from sklearn.naive_bayes import GaussianNB\n",
        "from sklearn.neighbors import KNeighborsClassifier\n",
        "from sklearn.tree import DecisionTreeClassifier\n",
        "from sklearn.ensemble import RandomForestClassifier"
      ],
      "execution_count": 1,
      "outputs": []
    },
    {
      "cell_type": "code",
      "metadata": {
        "id": "U5_Gq9AGLrmd"
      },
      "source": [
        "data=pd.read_csv('/content/diabetes.csv')"
      ],
      "execution_count": 2,
      "outputs": []
    },
    {
      "cell_type": "code",
      "metadata": {
        "id": "Tvd3b8b-Y9N8",
        "outputId": "56e1a08c-6606-4a2b-fbfb-6d9de6d93d6a",
        "colab": {
          "base_uri": "https://localhost:8080/",
          "height": 204
        }
      },
      "source": [
        "data.head()"
      ],
      "execution_count": 3,
      "outputs": [
        {
          "output_type": "execute_result",
          "data": {
            "text/html": [
              "<div>\n",
              "<style scoped>\n",
              "    .dataframe tbody tr th:only-of-type {\n",
              "        vertical-align: middle;\n",
              "    }\n",
              "\n",
              "    .dataframe tbody tr th {\n",
              "        vertical-align: top;\n",
              "    }\n",
              "\n",
              "    .dataframe thead th {\n",
              "        text-align: right;\n",
              "    }\n",
              "</style>\n",
              "<table border=\"1\" class=\"dataframe\">\n",
              "  <thead>\n",
              "    <tr style=\"text-align: right;\">\n",
              "      <th></th>\n",
              "      <th>Pregnancies</th>\n",
              "      <th>Glucose</th>\n",
              "      <th>BloodPressure</th>\n",
              "      <th>SkinThickness</th>\n",
              "      <th>Insulin</th>\n",
              "      <th>BMI</th>\n",
              "      <th>DiabetesPedigreeFunction</th>\n",
              "      <th>Age</th>\n",
              "      <th>Outcome</th>\n",
              "    </tr>\n",
              "  </thead>\n",
              "  <tbody>\n",
              "    <tr>\n",
              "      <th>0</th>\n",
              "      <td>6</td>\n",
              "      <td>148</td>\n",
              "      <td>72</td>\n",
              "      <td>35</td>\n",
              "      <td>0</td>\n",
              "      <td>33.6</td>\n",
              "      <td>0.627</td>\n",
              "      <td>50</td>\n",
              "      <td>1</td>\n",
              "    </tr>\n",
              "    <tr>\n",
              "      <th>1</th>\n",
              "      <td>1</td>\n",
              "      <td>85</td>\n",
              "      <td>66</td>\n",
              "      <td>29</td>\n",
              "      <td>0</td>\n",
              "      <td>26.6</td>\n",
              "      <td>0.351</td>\n",
              "      <td>31</td>\n",
              "      <td>0</td>\n",
              "    </tr>\n",
              "    <tr>\n",
              "      <th>2</th>\n",
              "      <td>8</td>\n",
              "      <td>183</td>\n",
              "      <td>64</td>\n",
              "      <td>0</td>\n",
              "      <td>0</td>\n",
              "      <td>23.3</td>\n",
              "      <td>0.672</td>\n",
              "      <td>32</td>\n",
              "      <td>1</td>\n",
              "    </tr>\n",
              "    <tr>\n",
              "      <th>3</th>\n",
              "      <td>1</td>\n",
              "      <td>89</td>\n",
              "      <td>66</td>\n",
              "      <td>23</td>\n",
              "      <td>94</td>\n",
              "      <td>28.1</td>\n",
              "      <td>0.167</td>\n",
              "      <td>21</td>\n",
              "      <td>0</td>\n",
              "    </tr>\n",
              "    <tr>\n",
              "      <th>4</th>\n",
              "      <td>0</td>\n",
              "      <td>137</td>\n",
              "      <td>40</td>\n",
              "      <td>35</td>\n",
              "      <td>168</td>\n",
              "      <td>43.1</td>\n",
              "      <td>2.288</td>\n",
              "      <td>33</td>\n",
              "      <td>1</td>\n",
              "    </tr>\n",
              "  </tbody>\n",
              "</table>\n",
              "</div>"
            ],
            "text/plain": [
              "   Pregnancies  Glucose  BloodPressure  ...  DiabetesPedigreeFunction  Age  Outcome\n",
              "0            6      148             72  ...                     0.627   50        1\n",
              "1            1       85             66  ...                     0.351   31        0\n",
              "2            8      183             64  ...                     0.672   32        1\n",
              "3            1       89             66  ...                     0.167   21        0\n",
              "4            0      137             40  ...                     2.288   33        1\n",
              "\n",
              "[5 rows x 9 columns]"
            ]
          },
          "metadata": {
            "tags": []
          },
          "execution_count": 3
        }
      ]
    },
    {
      "cell_type": "markdown",
      "metadata": {
        "id": "jTMc1qbVlIXi"
      },
      "source": [
        "In the dataset outcome 1 means person is diabetic and 0 means person is not diabetic."
      ]
    },
    {
      "cell_type": "code",
      "metadata": {
        "id": "es-jGNDdZAgF",
        "outputId": "cbacdcff-70a6-4205-99f6-80d9ea052d52",
        "colab": {
          "base_uri": "https://localhost:8080/"
        }
      },
      "source": [
        "data.info()"
      ],
      "execution_count": 4,
      "outputs": [
        {
          "output_type": "stream",
          "text": [
            "<class 'pandas.core.frame.DataFrame'>\n",
            "RangeIndex: 768 entries, 0 to 767\n",
            "Data columns (total 9 columns):\n",
            " #   Column                    Non-Null Count  Dtype  \n",
            "---  ------                    --------------  -----  \n",
            " 0   Pregnancies               768 non-null    int64  \n",
            " 1   Glucose                   768 non-null    int64  \n",
            " 2   BloodPressure             768 non-null    int64  \n",
            " 3   SkinThickness             768 non-null    int64  \n",
            " 4   Insulin                   768 non-null    int64  \n",
            " 5   BMI                       768 non-null    float64\n",
            " 6   DiabetesPedigreeFunction  768 non-null    float64\n",
            " 7   Age                       768 non-null    int64  \n",
            " 8   Outcome                   768 non-null    int64  \n",
            "dtypes: float64(2), int64(7)\n",
            "memory usage: 54.1 KB\n"
          ],
          "name": "stdout"
        }
      ]
    },
    {
      "cell_type": "code",
      "metadata": {
        "id": "TcQQNTRbgdtT",
        "outputId": "0de2d2e9-a50b-401f-ae1c-909bee0aa507",
        "colab": {
          "base_uri": "https://localhost:8080/"
        }
      },
      "source": [
        "data.shape"
      ],
      "execution_count": 5,
      "outputs": [
        {
          "output_type": "execute_result",
          "data": {
            "text/plain": [
              "(768, 9)"
            ]
          },
          "metadata": {
            "tags": []
          },
          "execution_count": 5
        }
      ]
    },
    {
      "cell_type": "code",
      "metadata": {
        "id": "GjkBUWKnlZKf",
        "outputId": "cdebfe22-f978-4ec9-b34f-b31e2175f1c0",
        "colab": {
          "base_uri": "https://localhost:8080/"
        }
      },
      "source": [
        "data['Outcome'].value_counts()"
      ],
      "execution_count": 6,
      "outputs": [
        {
          "output_type": "execute_result",
          "data": {
            "text/plain": [
              "0    500\n",
              "1    268\n",
              "Name: Outcome, dtype: int64"
            ]
          },
          "metadata": {
            "tags": []
          },
          "execution_count": 6
        }
      ]
    },
    {
      "cell_type": "markdown",
      "metadata": {
        "id": "u3tZTwv5lkRB"
      },
      "source": [
        "Out of total 768 people, 268 are dibetic and 500 are non-dibetic."
      ]
    },
    {
      "cell_type": "code",
      "metadata": {
        "id": "3s2wjU3_nGSf",
        "outputId": "b617aec4-3a2b-4aa5-aa6c-5067d7c18b8b",
        "colab": {
          "base_uri": "https://localhost:8080/",
          "height": 1000
        }
      },
      "source": [
        "data.groupby('Outcome').hist(figsize=(8,8))"
      ],
      "execution_count": 8,
      "outputs": [
        {
          "output_type": "execute_result",
          "data": {
            "text/plain": [
              "Outcome\n",
              "0    [[AxesSubplot(0.125,0.670278;0.215278x0.209722...\n",
              "1    [[AxesSubplot(0.125,0.670278;0.215278x0.209722...\n",
              "dtype: object"
            ]
          },
          "metadata": {
            "tags": []
          },
          "execution_count": 8
        },
        {
          "output_type": "display_data",
          "data": {
            "image/png": "[encoded data removed]",
            "text/plain": [
              "<Figure size 576x576 with 9 Axes>"
            ]
          },
          "metadata": {
            "tags": [],
            "needs_background": "light"
          }
        },
        {
          "output_type": "display_data",
          "data": {
            "image/png": "[encoded data removed]",
            "text/plain": [
              "<Figure size 576x576 with 9 Axes>"
            ]
          },
          "metadata": {
            "tags": [],
            "needs_background": "light"
          }
        }
      ]
    },
    {
      "cell_type": "code",
      "metadata": {
        "id": "nDmNDXXMZb0l",
        "outputId": "eb950f89-8009-4d7d-ed86-0b6c8fbc19ea",
        "colab": {
          "base_uri": "https://localhost:8080/",
          "height": 297
        }
      },
      "source": [
        "data.describe()"
      ],
      "execution_count": 9,
      "outputs": [
        {
          "output_type": "execute_result",
          "data": {
            "text/html": [
              "<div>\n",
              "<style scoped>\n",
              "    .dataframe tbody tr th:only-of-type {\n",
              "        vertical-align: middle;\n",
              "    }\n",
              "\n",
              "    .dataframe tbody tr th {\n",
              "        vertical-align: top;\n",
              "    }\n",
              "\n",
              "    .dataframe thead th {\n",
              "        text-align: right;\n",
              "    }\n",
              "</style>\n",
              "<table border=\"1\" class=\"dataframe\">\n",
              "  <thead>\n",
              "    <tr style=\"text-align: right;\">\n",
              "      <th></th>\n",
              "      <th>Pregnancies</th>\n",
              "      <th>Glucose</th>\n",
              "      <th>BloodPressure</th>\n",
              "      <th>SkinThickness</th>\n",
              "      <th>Insulin</th>\n",
              "      <th>BMI</th>\n",
              "      <th>DiabetesPedigreeFunction</th>\n",
              "      <th>Age</th>\n",
              "      <th>Outcome</th>\n",
              "    </tr>\n",
              "  </thead>\n",
              "  <tbody>\n",
              "    <tr>\n",
              "      <th>count</th>\n",
              "      <td>768.000000</td>\n",
              "      <td>768.000000</td>\n",
              "      <td>768.000000</td>\n",
              "      <td>768.000000</td>\n",
              "      <td>768.000000</td>\n",
              "      <td>768.000000</td>\n",
              "      <td>768.000000</td>\n",
              "      <td>768.000000</td>\n",
              "      <td>768.000000</td>\n",
              "    </tr>\n",
              "    <tr>\n",
              "      <th>mean</th>\n",
              "      <td>3.845052</td>\n",
              "      <td>120.894531</td>\n",
              "      <td>69.105469</td>\n",
              "      <td>20.536458</td>\n",
              "      <td>79.799479</td>\n",
              "      <td>31.992578</td>\n",
              "      <td>0.471876</td>\n",
              "      <td>33.240885</td>\n",
              "      <td>0.348958</td>\n",
              "    </tr>\n",
              "    <tr>\n",
              "      <th>std</th>\n",
              "      <td>3.369578</td>\n",
              "      <td>31.972618</td>\n",
              "      <td>19.355807</td>\n",
              "      <td>15.952218</td>\n",
              "      <td>115.244002</td>\n",
              "      <td>7.884160</td>\n",
              "      <td>0.331329</td>\n",
              "      <td>11.760232</td>\n",
              "      <td>0.476951</td>\n",
              "    </tr>\n",
              "    <tr>\n",
              "      <th>min</th>\n",
              "      <td>0.000000</td>\n",
              "      <td>0.000000</td>\n",
              "      <td>0.000000</td>\n",
              "      <td>0.000000</td>\n",
              "      <td>0.000000</td>\n",
              "      <td>0.000000</td>\n",
              "      <td>0.078000</td>\n",
              "      <td>21.000000</td>\n",
              "      <td>0.000000</td>\n",
              "    </tr>\n",
              "    <tr>\n",
              "      <th>25%</th>\n",
              "      <td>1.000000</td>\n",
              "      <td>99.000000</td>\n",
              "      <td>62.000000</td>\n",
              "      <td>0.000000</td>\n",
              "      <td>0.000000</td>\n",
              "      <td>27.300000</td>\n",
              "      <td>0.243750</td>\n",
              "      <td>24.000000</td>\n",
              "      <td>0.000000</td>\n",
              "    </tr>\n",
              "    <tr>\n",
              "      <th>50%</th>\n",
              "      <td>3.000000</td>\n",
              "      <td>117.000000</td>\n",
              "      <td>72.000000</td>\n",
              "      <td>23.000000</td>\n",
              "      <td>30.500000</td>\n",
              "      <td>32.000000</td>\n",
              "      <td>0.372500</td>\n",
              "      <td>29.000000</td>\n",
              "      <td>0.000000</td>\n",
              "    </tr>\n",
              "    <tr>\n",
              "      <th>75%</th>\n",
              "      <td>6.000000</td>\n",
              "      <td>140.250000</td>\n",
              "      <td>80.000000</td>\n",
              "      <td>32.000000</td>\n",
              "      <td>127.250000</td>\n",
              "      <td>36.600000</td>\n",
              "      <td>0.626250</td>\n",
              "      <td>41.000000</td>\n",
              "      <td>1.000000</td>\n",
              "    </tr>\n",
              "    <tr>\n",
              "      <th>max</th>\n",
              "      <td>17.000000</td>\n",
              "      <td>199.000000</td>\n",
              "      <td>122.000000</td>\n",
              "      <td>99.000000</td>\n",
              "      <td>846.000000</td>\n",
              "      <td>67.100000</td>\n",
              "      <td>2.420000</td>\n",
              "      <td>81.000000</td>\n",
              "      <td>1.000000</td>\n",
              "    </tr>\n",
              "  </tbody>\n",
              "</table>\n",
              "</div>"
            ],
            "text/plain": [
              "       Pregnancies     Glucose  ...         Age     Outcome\n",
              "count   768.000000  768.000000  ...  768.000000  768.000000\n",
              "mean      3.845052  120.894531  ...   33.240885    0.348958\n",
              "std       3.369578   31.972618  ...   11.760232    0.476951\n",
              "min       0.000000    0.000000  ...   21.000000    0.000000\n",
              "25%       1.000000   99.000000  ...   24.000000    0.000000\n",
              "50%       3.000000  117.000000  ...   29.000000    0.000000\n",
              "75%       6.000000  140.250000  ...   41.000000    1.000000\n",
              "max      17.000000  199.000000  ...   81.000000    1.000000\n",
              "\n",
              "[8 rows x 9 columns]"
            ]
          },
          "metadata": {
            "tags": []
          },
          "execution_count": 9
        }
      ]
    },
    {
      "cell_type": "markdown",
      "metadata": {
        "id": "3ZakCz9RaWmV"
      },
      "source": [
        "In the above table , the min value of columns 'Glucose','BloodPressure','SkinThickness','Insulin','BMI' is zero.It is clear that this values can't be zero.So I am going to impute median values of these respective columns instead of zero since mean is susceptible to outliers.As you see in the histogram there are outliers in the data."
      ]
    },
    {
      "cell_type": "code",
      "metadata": {
        "id": "sbs22OC-Z2pt",
        "outputId": "77b95ceb-272d-44c3-bd62-015ff70d4d1b",
        "colab": {
          "base_uri": "https://localhost:8080/"
        }
      },
      "source": [
        "data.isnull().sum()"
      ],
      "execution_count": 10,
      "outputs": [
        {
          "output_type": "execute_result",
          "data": {
            "text/plain": [
              "Pregnancies                 0\n",
              "Glucose                     0\n",
              "BloodPressure               0\n",
              "SkinThickness               0\n",
              "Insulin                     0\n",
              "BMI                         0\n",
              "DiabetesPedigreeFunction    0\n",
              "Age                         0\n",
              "Outcome                     0\n",
              "dtype: int64"
            ]
          },
          "metadata": {
            "tags": []
          },
          "execution_count": 10
        }
      ]
    },
    {
      "cell_type": "code",
      "metadata": {
        "id": "uX2mjsZNq1tN",
        "outputId": "be9b11ba-9d56-4475-cb81-27d4cbd21d65",
        "colab": {
          "base_uri": "https://localhost:8080/"
        }
      },
      "source": [
        "print('No. of zero values in Glucose ',data[data['Glucose']==0].shape[0])"
      ],
      "execution_count": 11,
      "outputs": [
        {
          "output_type": "stream",
          "text": [
            "No. of zero values in Glucose  5\n"
          ],
          "name": "stdout"
        }
      ]
    },
    {
      "cell_type": "code",
      "metadata": {
        "id": "kpkYNoCgogx6"
      },
      "source": [
        "#data[data['Glucose']==0].shape"
      ],
      "execution_count": null,
      "outputs": []
    },
    {
      "cell_type": "code",
      "metadata": {
        "id": "1soufHDN0RoB",
        "outputId": "22512b54-cfa7-4028-911f-8e59035b3040",
        "colab": {
          "base_uri": "https://localhost:8080/"
        }
      },
      "source": [
        "print('No. of zero values in BloodPressure ',data[data['BloodPressure']==0].shape[0])"
      ],
      "execution_count": 12,
      "outputs": [
        {
          "output_type": "stream",
          "text": [
            "No. of zero values in BloodPressure  35\n"
          ],
          "name": "stdout"
        }
      ]
    },
    {
      "cell_type": "code",
      "metadata": {
        "id": "COUN5ATY0cqG",
        "outputId": "bae6bfca-6d68-41ea-ad5c-183cf4821824",
        "colab": {
          "base_uri": "https://localhost:8080/"
        }
      },
      "source": [
        "print('No. of zero values in SkinThickness ',data[data['SkinThickness']==0].shape[0])"
      ],
      "execution_count": 13,
      "outputs": [
        {
          "output_type": "stream",
          "text": [
            "No. of zero values in SkinThickness  227\n"
          ],
          "name": "stdout"
        }
      ]
    },
    {
      "cell_type": "code",
      "metadata": {
        "id": "wPq4cdJk0tFO",
        "outputId": "75fce596-fe49-488c-c54c-5b1077e9a9d8",
        "colab": {
          "base_uri": "https://localhost:8080/"
        }
      },
      "source": [
        "print('No. of zero values in Insulin ',data[data['Insulin']==0].shape[0])"
      ],
      "execution_count": 14,
      "outputs": [
        {
          "output_type": "stream",
          "text": [
            "No. of zero values in Insulin  374\n"
          ],
          "name": "stdout"
        }
      ]
    },
    {
      "cell_type": "code",
      "metadata": {
        "id": "i9ufOnW503Go",
        "outputId": "464b91fc-1077-4d88-8a0a-257f8ac36563",
        "colab": {
          "base_uri": "https://localhost:8080/"
        }
      },
      "source": [
        "print('No. of zero values in BMI ',data[data['BMI']==0].shape[0])"
      ],
      "execution_count": 15,
      "outputs": [
        {
          "output_type": "stream",
          "text": [
            "No. of zero values in BMI  11\n"
          ],
          "name": "stdout"
        }
      ]
    },
    {
      "cell_type": "code",
      "metadata": {
        "id": "wTnmjJBD1EJ-"
      },
      "source": [
        "data['Glucose']=data['Glucose'].replace(0,data['Glucose'].median())"
      ],
      "execution_count": 16,
      "outputs": []
    },
    {
      "cell_type": "code",
      "metadata": {
        "id": "zPzbJWwt-Wrx"
      },
      "source": [
        "data['BloodPressure']=data['BloodPressure'].replace(0,data['BloodPressure'].median())\n",
        "data['SkinThickness']=data['SkinThickness'].replace(0,data['SkinThickness'].median())\n",
        "data['Insulin']=data['Insulin'].replace(0,data['Insulin'].median())\n",
        "data['BMI']=data['BMI'].replace(0,data['BMI'].median())"
      ],
      "execution_count": 17,
      "outputs": []
    },
    {
      "cell_type": "code",
      "metadata": {
        "id": "5-jhhpzx_Vop"
      },
      "source": [
        "X=data.drop('Outcome',axis=1)\n",
        "y=data['Outcome']"
      ],
      "execution_count": 18,
      "outputs": []
    },
    {
      "cell_type": "code",
      "metadata": {
        "id": "7N7IZEm-qnDm"
      },
      "source": [
        "from sklearn.model_selection import train_test_split"
      ],
      "execution_count": 19,
      "outputs": []
    },
    {
      "cell_type": "code",
      "metadata": {
        "id": "M1VMnfFk_M5h"
      },
      "source": [
        "X_train,X_test,y_train,y_test=train_test_split(X,y,test_size=0.2,random_state=1)"
      ],
      "execution_count": 20,
      "outputs": []
    },
    {
      "cell_type": "code",
      "metadata": {
        "id": "r6gHS2BB_0Rz",
        "outputId": "2f416411-10c4-485b-ac39-6520dc1a58be",
        "colab": {
          "base_uri": "https://localhost:8080/"
        }
      },
      "source": [
        "len(X_train)"
      ],
      "execution_count": 21,
      "outputs": [
        {
          "output_type": "execute_result",
          "data": {
            "text/plain": [
              "614"
            ]
          },
          "metadata": {
            "tags": []
          },
          "execution_count": 21
        }
      ]
    },
    {
      "cell_type": "code",
      "metadata": {
        "id": "qt8uIM-__3pQ",
        "outputId": "5598e41e-bee1-440a-833d-5f6d8b9d8c51",
        "colab": {
          "base_uri": "https://localhost:8080/"
        }
      },
      "source": [
        "len(X_test)"
      ],
      "execution_count": 22,
      "outputs": [
        {
          "output_type": "execute_result",
          "data": {
            "text/plain": [
              "154"
            ]
          },
          "metadata": {
            "tags": []
          },
          "execution_count": 22
        }
      ]
    },
    {
      "cell_type": "code",
      "metadata": {
        "id": "XHSCgpb2__5c"
      },
      "source": [
        "from sklearn.preprocessing import StandardScaler"
      ],
      "execution_count": 23,
      "outputs": []
    },
    {
      "cell_type": "code",
      "metadata": {
        "id": "fQu8g_gQAQws"
      },
      "source": [
        "scaler=StandardScaler()"
      ],
      "execution_count": 24,
      "outputs": []
    },
    {
      "cell_type": "code",
      "metadata": {
        "id": "DlQ-qHHYAVFV"
      },
      "source": [
        "X_train=scaler.fit_transform(X_train)\n",
        "X_test=scaler.fit_transform(X_test)"
      ],
      "execution_count": 25,
      "outputs": []
    },
    {
      "cell_type": "code",
      "metadata": {
        "id": "GykHORxVAdxN"
      },
      "source": [
        "def models(X_train,X_test):\n",
        "  #Logistic regressison\n",
        "  log=LogisticRegression()\n",
        "  log.fit(X_train,X_test)\n",
        "\n",
        "  #KNN\n",
        "  knn=KNeighborsClassifier()\n",
        "  knn.fit(X_train,X_test)\n",
        "\n",
        "  #Naive-Bayes\n",
        "  nb=GaussianNB()\n",
        "  nb.fit(X_train,X_test)\n",
        "\n",
        "  #SVM\n",
        "  sv=SVC()\n",
        "  sv.fit(X_train,X_test)\n",
        "\n",
        "  #Decision tree\n",
        "  dt=DecisionTreeClassifier()\n",
        "  dt.fit(X_train,X_test)\n",
        "\n",
        "  #Random Forest\n",
        "  rf=RandomForestClassifier(criterion='entropy')\n",
        "  rf.fit(X_train,X_test)\n",
        "\n",
        "  #Training Set Accuracy\n",
        "  print('Training set accuracy')\n",
        "  print()\n",
        "  print('[0]Logistic Regression',log.score(X_train,y_train))\n",
        "  print('[1]KNN',knn.score(X_train,y_train))\n",
        "  print('[2]Naive Bayes',nb.score(X_train,y_train))\n",
        "  print('[3]SVM',sv.score(X_train,y_train))\n",
        "  print('[4]Decision Tree',dt.score(X_train,y_train))\n",
        "  print('[5]Random Forest',rf.score(X_train,y_train))\n",
        "\n",
        "  return log,knn,nb,sv,dt,rf"
      ],
      "execution_count": 63,
      "outputs": []
    },
    {
      "cell_type": "code",
      "metadata": {
        "id": "0fo0IytLIWXJ",
        "outputId": "3ffd16d7-021a-4cc5-e2e5-d9ba498e8cd2",
        "colab": {
          "base_uri": "https://localhost:8080/"
        }
      },
      "source": [
        "model=models(X_train,y_train)"
      ],
      "execution_count": 64,
      "outputs": [
        {
          "output_type": "stream",
          "text": [
            "Training set accuracy\n",
            "\n",
            "[0]Logistic Regression 0.7752442996742671\n",
            "[1]KNN 0.8078175895765473\n",
            "[2]Naive Bayes 0.750814332247557\n",
            "[3]SVM 0.8192182410423453\n",
            "[4]Decision Tree 1.0\n",
            "[5]Random Forest 1.0\n"
          ],
          "name": "stdout"
        }
      ]
    },
    {
      "cell_type": "code",
      "metadata": {
        "id": "u9lGLvAA1zcQ"
      },
      "source": [
        "from sklearn.metrics import confusion_matrix,classification_report,accuracy_score"
      ],
      "execution_count": 54,
      "outputs": []
    },
    {
      "cell_type": "code",
      "metadata": {
        "id": "skGyo3gu1MfA",
        "outputId": "014c6cd0-23aa-4410-8926-0af6f243c7c0",
        "colab": {
          "base_uri": "https://localhost:8080/"
        }
      },
      "source": [
        "for i in range(len(model)):\n",
        "    cm = confusion_matrix(y_test, model[i].predict(X_test))\n",
        "    cr=classification_report(y_test, model[i].predict(X_test))\n",
        "\n",
        "    TP=cm[0][0]\n",
        "    TN=cm[1][1]\n",
        "    FP=cm[0][1]\n",
        "    FN=cm[1][0]\n",
        "  \n",
        "    Accuracy = (TP + TN) /(TP + TN + FP + FN)\n",
        "    print('Confusion Matrix of model {} is'.format(i))\n",
        "    print(cm)\n",
        "    print(\"Accuracy is\",Accuracy)\n",
        "    print()\n",
        "    \n",
        "    print('Classification report of model {} is'.format(i))\n",
        "    print(cr)\n",
        "    print()"
      ],
      "execution_count": 69,
      "outputs": [
        {
          "output_type": "stream",
          "text": [
            "Confusion Matrix of model 0 is\n",
            "[[88 11]\n",
            " [25 30]]\n",
            "Accuracy is 0.7662337662337663\n",
            "\n",
            "Classification report of model 0 is\n",
            "              precision    recall  f1-score   support\n",
            "\n",
            "           0       0.78      0.89      0.83        99\n",
            "           1       0.73      0.55      0.62        55\n",
            "\n",
            "    accuracy                           0.77       154\n",
            "   macro avg       0.76      0.72      0.73       154\n",
            "weighted avg       0.76      0.77      0.76       154\n",
            "\n",
            "\n",
            "Confusion Matrix of model 1 is\n",
            "[[88 11]\n",
            " [22 33]]\n",
            "Accuracy is 0.7857142857142857\n",
            "\n",
            "Classification report of model 1 is\n",
            "              precision    recall  f1-score   support\n",
            "\n",
            "           0       0.80      0.89      0.84        99\n",
            "           1       0.75      0.60      0.67        55\n",
            "\n",
            "    accuracy                           0.79       154\n",
            "   macro avg       0.78      0.74      0.75       154\n",
            "weighted avg       0.78      0.79      0.78       154\n",
            "\n",
            "\n",
            "Confusion Matrix of model 2 is\n",
            "[[84 15]\n",
            " [22 33]]\n",
            "Accuracy is 0.7597402597402597\n",
            "\n",
            "Classification report of model 2 is\n",
            "              precision    recall  f1-score   support\n",
            "\n",
            "           0       0.79      0.85      0.82        99\n",
            "           1       0.69      0.60      0.64        55\n",
            "\n",
            "    accuracy                           0.76       154\n",
            "   macro avg       0.74      0.72      0.73       154\n",
            "weighted avg       0.75      0.76      0.76       154\n",
            "\n",
            "\n",
            "Confusion Matrix of model 3 is\n",
            "[[91  8]\n",
            " [25 30]]\n",
            "Accuracy is 0.7857142857142857\n",
            "\n",
            "Classification report of model 3 is\n",
            "              precision    recall  f1-score   support\n",
            "\n",
            "           0       0.78      0.92      0.85        99\n",
            "           1       0.79      0.55      0.65        55\n",
            "\n",
            "    accuracy                           0.79       154\n",
            "   macro avg       0.79      0.73      0.75       154\n",
            "weighted avg       0.79      0.79      0.77       154\n",
            "\n",
            "\n",
            "Confusion Matrix of model 4 is\n",
            "[[78 21]\n",
            " [27 28]]\n",
            "Accuracy is 0.6883116883116883\n",
            "\n",
            "Classification report of model 4 is\n",
            "              precision    recall  f1-score   support\n",
            "\n",
            "           0       0.74      0.79      0.76        99\n",
            "           1       0.57      0.51      0.54        55\n",
            "\n",
            "    accuracy                           0.69       154\n",
            "   macro avg       0.66      0.65      0.65       154\n",
            "weighted avg       0.68      0.69      0.68       154\n",
            "\n",
            "\n",
            "Confusion Matrix of model 5 is\n",
            "[[89 10]\n",
            " [21 34]]\n",
            "Accuracy is 0.7987012987012987\n",
            "\n",
            "Classification report of model 5 is\n",
            "              precision    recall  f1-score   support\n",
            "\n",
            "           0       0.81      0.90      0.85        99\n",
            "           1       0.77      0.62      0.69        55\n",
            "\n",
            "    accuracy                           0.80       154\n",
            "   macro avg       0.79      0.76      0.77       154\n",
            "weighted avg       0.80      0.80      0.79       154\n",
            "\n",
            "\n"
          ],
          "name": "stdout"
        }
      ]
    },
    {
      "cell_type": "markdown",
      "metadata": {
        "id": "ASVNQD4K_Oaz"
      },
      "source": [
        "Here, I prefer Random forest algorithm which shows highest recall.In medical industry we focus on False Negatives as this should be low.So in this case Random forest algorithm is best "
      ]
    }
  ]
}
